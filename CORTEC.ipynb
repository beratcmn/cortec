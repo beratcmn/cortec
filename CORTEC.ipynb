{
  "cells": [
    {
      "cell_type": "code",
      "execution_count": 1,
      "metadata": {
        "colab": {
          "base_uri": "https://localhost:8080/"
        },
        "id": "QzO7SRc2TuQ6",
        "outputId": "01c6a0e1-716f-4646-b22e-945ced10cdf1"
      },
      "outputs": [
        {
          "name": "stdout",
          "output_type": "stream",
          "text": [
            "Cloning into 'cortec'...\n",
            "remote: Enumerating objects: 87, done.\u001b[K\n",
            "remote: Counting objects: 100% (12/12), done.\u001b[K\n",
            "remote: Compressing objects: 100% (8/8), done.\u001b[K\n",
            "remote: Total 87 (delta 1), reused 12 (delta 1), pack-reused 75\u001b[K\n",
            "Receiving objects: 100% (87/87), 57.30 MiB | 31.73 MiB/s, done.\n",
            "Resolving deltas: 100% (11/11), done.\n",
            "/content/cortec\n",
            "data  README.md  requirements.txt  src\n"
          ]
        }
      ],
      "source": [
        "%git clone https://github.com/beratcmn/cortec.git\n",
        "%cd ./cortec/\n",
        "%ls"
      ]
    },
    {
      "cell_type": "code",
      "execution_count": 2,
      "metadata": {
        "colab": {
          "base_uri": "https://localhost:8080/"
        },
        "id": "kOtXcfZ1Tq1F",
        "outputId": "9984a632-5649-44aa-b515-290dd88d0c47"
      },
      "outputs": [
        {
          "name": "stdout",
          "output_type": "stream",
          "text": [
            "Collecting python-dotenv==1.0.0 (from -r requirements.txt (line 1))\n",
            "  Downloading python_dotenv-1.0.0-py3-none-any.whl (19 kB)\n",
            "Installing collected packages: python-dotenv\n",
            "Successfully installed python-dotenv-1.0.0\n"
          ]
        }
      ],
      "source": [
        "%pip install -r requirements.txt"
      ]
    },
    {
      "cell_type": "code",
      "execution_count": 3,
      "metadata": {
        "colab": {
          "base_uri": "https://localhost:8080/"
        },
        "id": "ImUiPz0PZKMr",
        "outputId": "8cbc1bec-96c5-4ced-e96a-bdff436f7f50"
      },
      "outputs": [
        {
          "name": "stdout",
          "output_type": "stream",
          "text": [
            "\u001b[2K     \u001b[90m━━━━━━━━━━━━━━━━━━━━━━━━━━━━━━━━━━━━━━━━\u001b[0m \u001b[32m1.6/1.6 MB\u001b[0m \u001b[31m6.2 MB/s\u001b[0m eta \u001b[36m0:00:00\u001b[0m\n",
            "\u001b[2K     \u001b[90m━━━━━━━━━━━━━━━━━━━━━━━━━━━━━━━━━━━━━━━━\u001b[0m \u001b[32m76.5/76.5 kB\u001b[0m \u001b[31m6.6 MB/s\u001b[0m eta \u001b[36m0:00:00\u001b[0m\n",
            "\u001b[2K     \u001b[90m━━━━━━━━━━━━━━━━━━━━━━━━━━━━━━━━━━━━━━━━\u001b[0m \u001b[32m1.7/1.7 MB\u001b[0m \u001b[31m12.8 MB/s\u001b[0m eta \u001b[36m0:00:00\u001b[0m\n",
            "\u001b[2K     \u001b[90m━━━━━━━━━━━━━━━━━━━━━━━━━━━━━━━━━━━━━━\u001b[0m \u001b[32m418.3/418.3 kB\u001b[0m \u001b[31m13.9 MB/s\u001b[0m eta \u001b[36m0:00:00\u001b[0m\n",
            "\u001b[2K     \u001b[90m━━━━━━━━━━━━━━━━━━━━━━━━━━━━━━━━━━━━━━\u001b[0m \u001b[32m272.3/272.3 kB\u001b[0m \u001b[31m16.6 MB/s\u001b[0m eta \u001b[36m0:00:00\u001b[0m\n",
            "\u001b[2K     \u001b[90m━━━━━━━━━━━━━━━━━━━━━━━━━━━━━━━━━━━━━━━━\u001b[0m \u001b[32m20.1/20.1 MB\u001b[0m \u001b[31m38.9 MB/s\u001b[0m eta \u001b[36m0:00:00\u001b[0m\n",
            "\u001b[2K     \u001b[90m━━━━━━━━━━━━━━━━━━━━━━━━━━━━━━━━━━━━━━━━\u001b[0m \u001b[32m3.1/3.1 MB\u001b[0m \u001b[31m42.9 MB/s\u001b[0m eta \u001b[36m0:00:00\u001b[0m\n",
            "\u001b[?25h  Installing build dependencies ... \u001b[?25l\u001b[?25hdone\n",
            "  Getting requirements to build wheel ... \u001b[?25l\u001b[?25hdone\n",
            "  Preparing metadata (pyproject.toml) ... \u001b[?25l\u001b[?25hdone\n",
            "\u001b[2K     \u001b[90m━━━━━━━━━━━━━━━━━━━━━━━━━━━━━━━━━━━━━━━━\u001b[0m \u001b[32m58.4/58.4 kB\u001b[0m \u001b[31m5.0 MB/s\u001b[0m eta \u001b[36m0:00:00\u001b[0m\n",
            "\u001b[2K     \u001b[90m━━━━━━━━━━━━━━━━━━━━━━━━━━━━━━━━━━━━━━━━\u001b[0m \u001b[32m59.5/59.5 kB\u001b[0m \u001b[31m5.2 MB/s\u001b[0m eta \u001b[36m0:00:00\u001b[0m\n",
            "\u001b[2K     \u001b[90m━━━━━━━━━━━━━━━━━━━━━━━━━━━━━━━━━━━━━━━━\u001b[0m \u001b[32m5.4/5.4 MB\u001b[0m \u001b[31m73.8 MB/s\u001b[0m eta \u001b[36m0:00:00\u001b[0m\n",
            "\u001b[2K     \u001b[90m━━━━━━━━━━━━━━━━━━━━━━━━━━━━━━━━━━━━━━━━\u001b[0m \u001b[32m5.9/5.9 MB\u001b[0m \u001b[31m80.8 MB/s\u001b[0m eta \u001b[36m0:00:00\u001b[0m\n",
            "\u001b[2K     \u001b[90m━━━━━━━━━━━━━━━━━━━━━━━━━━━━━━━━━━━━━━━━\u001b[0m \u001b[32m7.8/7.8 MB\u001b[0m \u001b[31m31.8 MB/s\u001b[0m eta \u001b[36m0:00:00\u001b[0m\n",
            "\u001b[2K     \u001b[90m━━━━━━━━━━━━━━━━━━━━━━━━━━━━━━━━━━━━━━━━\u001b[0m \u001b[32m67.3/67.3 kB\u001b[0m \u001b[31m4.8 MB/s\u001b[0m eta \u001b[36m0:00:00\u001b[0m\n",
            "\u001b[?25h  Installing build dependencies ... \u001b[?25l\u001b[?25hdone\n",
            "  Getting requirements to build wheel ... \u001b[?25l\u001b[?25hdone\n",
            "  Preparing metadata (pyproject.toml) ... \u001b[?25l\u001b[?25hdone\n",
            "\u001b[2K     \u001b[90m━━━━━━━━━━━━━━━━━━━━━━━━━━━━━━━━━━━━━━\u001b[0m \u001b[32m593.7/593.7 kB\u001b[0m \u001b[31m39.1 MB/s\u001b[0m eta \u001b[36m0:00:00\u001b[0m\n",
            "\u001b[?25h  Preparing metadata (setup.py) ... \u001b[?25l\u001b[?25hdone\n",
            "\u001b[2K     \u001b[90m━━━━━━━━━━━━━━━━━━━━━━━━━━━━━━━━━━━━━━\u001b[0m \u001b[32m298.2/298.2 kB\u001b[0m \u001b[31m23.4 MB/s\u001b[0m eta \u001b[36m0:00:00\u001b[0m\n",
            "\u001b[2K     \u001b[90m━━━━━━━━━━━━━━━━━━━━━━━━━━━━━━━━━━━━━━━━\u001b[0m \u001b[32m75.4/75.4 kB\u001b[0m \u001b[31m6.6 MB/s\u001b[0m eta \u001b[36m0:00:00\u001b[0m\n",
            "\u001b[2K     \u001b[90m━━━━━━━━━━━━━━━━━━━━━━━━━━━━━━━━━━━━━━\u001b[0m \u001b[32m268.8/268.8 kB\u001b[0m \u001b[31m20.2 MB/s\u001b[0m eta \u001b[36m0:00:00\u001b[0m\n",
            "\u001b[2K     \u001b[90m━━━━━━━━━━━━━━━━━━━━━━━━━━━━━━━━━━━━━━\u001b[0m \u001b[32m139.9/139.9 kB\u001b[0m \u001b[31m12.6 MB/s\u001b[0m eta \u001b[36m0:00:00\u001b[0m\n",
            "\u001b[2K     \u001b[90m━━━━━━━━━━━━━━━━━━━━━━━━━━━━━━━━━━━━━━━━\u001b[0m \u001b[32m45.7/45.7 kB\u001b[0m \u001b[31m3.9 MB/s\u001b[0m eta \u001b[36m0:00:00\u001b[0m\n",
            "\u001b[2K     \u001b[90m━━━━━━━━━━━━━━━━━━━━━━━━━━━━━━━━━━━━━━\u001b[0m \u001b[32m129.9/129.9 kB\u001b[0m \u001b[31m10.7 MB/s\u001b[0m eta \u001b[36m0:00:00\u001b[0m\n",
            "\u001b[2K     \u001b[90m━━━━━━━━━━━━━━━━━━━━━━━━━━━━━━━━━━━━━━━━\u001b[0m \u001b[32m49.4/49.4 kB\u001b[0m \u001b[31m4.3 MB/s\u001b[0m eta \u001b[36m0:00:00\u001b[0m\n",
            "\u001b[2K     \u001b[90m━━━━━━━━━━━━━━━━━━━━━━━━━━━━━━━━━━━━━━━━\u001b[0m \u001b[32m67.0/67.0 kB\u001b[0m \u001b[31m5.9 MB/s\u001b[0m eta \u001b[36m0:00:00\u001b[0m\n",
            "\u001b[2K     \u001b[90m━━━━━━━━━━━━━━━━━━━━━━━━━━━━━━━━━━━━━━━━\u001b[0m \u001b[32m46.0/46.0 kB\u001b[0m \u001b[31m4.1 MB/s\u001b[0m eta \u001b[36m0:00:00\u001b[0m\n",
            "\u001b[2K     \u001b[90m━━━━━━━━━━━━━━━━━━━━━━━━━━━━━━━━━━━━━━━━\u001b[0m \u001b[32m58.3/58.3 kB\u001b[0m \u001b[31m5.5 MB/s\u001b[0m eta \u001b[36m0:00:00\u001b[0m\n",
            "\u001b[2K     \u001b[90m━━━━━━━━━━━━━━━━━━━━━━━━━━━━━━━━━━━━━━\u001b[0m \u001b[32m428.8/428.8 kB\u001b[0m \u001b[31m30.1 MB/s\u001b[0m eta \u001b[36m0:00:00\u001b[0m\n",
            "\u001b[2K     \u001b[90m━━━━━━━━━━━━━━━━━━━━━━━━━━━━━━━━━━━━━━━━\u001b[0m \u001b[32m4.1/4.1 MB\u001b[0m \u001b[31m77.6 MB/s\u001b[0m eta \u001b[36m0:00:00\u001b[0m\n",
            "\u001b[2K     \u001b[90m━━━━━━━━━━━━━━━━━━━━━━━━━━━━━━━━━━━━━━━━\u001b[0m \u001b[32m1.3/1.3 MB\u001b[0m \u001b[31m35.5 MB/s\u001b[0m eta \u001b[36m0:00:00\u001b[0m\n",
            "\u001b[2K     \u001b[90m━━━━━━━━━━━━━━━━━━━━━━━━━━━━━━━━━━━━━━━━\u001b[0m \u001b[32m74.5/74.5 kB\u001b[0m \u001b[31m5.0 MB/s\u001b[0m eta \u001b[36m0:00:00\u001b[0m\n",
            "\u001b[2K     \u001b[90m━━━━━━━━━━━━━━━━━━━━━━━━━━━━━━━━━━━━━━━\u001b[0m \u001b[32m86.8/86.8 kB\u001b[0m \u001b[31m719.8 kB/s\u001b[0m eta \u001b[36m0:00:00\u001b[0m\n",
            "\u001b[?25h  Building wheel for chroma-hnswlib (pyproject.toml) ... \u001b[?25l\u001b[?25hdone\n",
            "  Building wheel for pypika (pyproject.toml) ... \u001b[?25l\u001b[?25hdone\n",
            "  Building wheel for ffmpy (setup.py) ... \u001b[?25l\u001b[?25hdone\n"
          ]
        }
      ],
      "source": [
        "%pip -q install langchain openai tiktoken chromadb pypdf gradio"
      ]
    },
    {
      "cell_type": "code",
      "execution_count": 4,
      "metadata": {
        "id": "j8oB2suqZNmq"
      },
      "outputs": [],
      "source": [
        "from langchain.vectorstores import Chroma\n",
        "from langchain.embeddings import OpenAIEmbeddings\n",
        "from langchain.text_splitter import RecursiveCharacterTextSplitter\n",
        "from langchain.llms import AzureOpenAI\n",
        "from langchain.chat_models import AzureChatOpenAI\n",
        "from langchain.schema import HumanMessage\n",
        "from langchain.chains import RetrievalQA\n",
        "from langchain.document_loaders import PyPDFLoader\n",
        "from langchain.document_loaders import DirectoryLoader\n",
        "\n",
        "from langchain.agents.agent_toolkits import create_retriever_tool\n",
        "from langchain.agents.agent_toolkits import create_conversational_retrieval_agent"
      ]
    },
    {
      "cell_type": "code",
      "execution_count": 5,
      "metadata": {
        "id": "CmoiFxmAZP25"
      },
      "outputs": [],
      "source": [
        "import os\n",
        "os.environ[\"OPENAI_API_TYPE\"] = \"azure\"\n",
        "os.environ[\"OPENAI_API_VERSION\"] = \"2023-07-01-preview\"\n",
        "os.environ[\"OPENAI_API_BASE\"] = \"https://demo-moh-opeanaij-ape.openai.azure.com/\"\n",
        "os.environ[\"OPENAI_API_KEY\"] = \"a275c1b36f42488eb96add2a955aba48\""
      ]
    },
    {
      "cell_type": "code",
      "execution_count": 6,
      "metadata": {
        "id": "62XU53zWZmp0"
      },
      "outputs": [],
      "source": [
        "model = AzureChatOpenAI(\n",
        "    deployment_name=\"Demo-CORTEC-gpt-4\",\n",
        "    model_name=\"gpt-4\",\n",
        "    temperature=0\n",
        ")"
      ]
    },
    {
      "cell_type": "code",
      "execution_count": 7,
      "metadata": {
        "colab": {
          "base_uri": "https://localhost:8080/"
        },
        "id": "ZNmLSgJybRRU",
        "outputId": "b0582293-984b-4b54-f540-a8541c3ea40f"
      },
      "outputs": [
        {
          "name": "stdout",
          "output_type": "stream",
          "text": [
            "1. Eiffel Tower: The most iconic symbol of Paris, offering panoramic views of the city.\n",
            "\n",
            "2. Louvre Museum: The world's largest art museum and a historic monument in Paris.\n",
            "\n",
            "3. Notre-Dame Cathedral: A masterpiece of French Gothic architecture, and one of the largest and most well-known church buildings in the world.\n",
            "\n",
            "4. Montmartre: Known for its bohemian past and the beautiful Sacré-Cœur Basilica, there are also many unique shops and cafes to explore.\n",
            "\n",
            "5. Champs-Élysées: One of the most famous streets in the world, leading up to the Arc de Triomphe.\n",
            "\n",
            "6. Palace of Versailles: A royal château in Versailles, known for its Hall of Mirrors, the jewel-like Royal Opera, and the royal apartments.\n",
            "\n",
            "7. Seine River: Offers boat tours that provide a unique way to see the city's famous landmarks.\n",
            "\n",
            "8. Musée d'Orsay: An art museum housed in a former railway station, it holds mainly French art dating from 1848 to 1914.\n",
            "\n",
            "9. Sainte-Chapelle: Known for its stunning stained glass windows, it's considered among the highest achievements of the Rayonnant period of Gothic architecture.\n",
            "\n",
            "10. The Latin Quarter: Known for its student life, lively atmosphere, and bistros, it's the home of the University of Paris.\n",
            "\n",
            "11. Moulin Rouge: The famous cabaret, known as the birthplace of the modern form of the can-can dance.\n",
            "\n",
            "12. Père Lachaise Cemetery: The largest cemetery in Paris, where many famous figures are buried.\n",
            "\n",
            "13. Centre Pompidou: A complex building known for its high-tech architecture, housing the Public Information Library and the Museum of Modern Art. \n",
            "\n",
            "14. Disneyland Paris: The most visited theme park in all of Europe, located in the Paris suburb of Marne-la-Vallée. \n",
            "\n",
            "15. The Catacombs of Paris: An underground ossuary that holds the remains of more than six million people.\n"
          ]
        }
      ],
      "source": [
        "result = model(\n",
        "    [\n",
        "        HumanMessage(content=\"What are some touristic places in Paris?\")\n",
        "    ]\n",
        ")\n",
        "\n",
        "print(result.content)"
      ]
    },
    {
      "cell_type": "code",
      "execution_count": 8,
      "metadata": {
        "id": "G4c4oUm2oP-h"
      },
      "outputs": [],
      "source": [
        "embeddings = OpenAIEmbeddings(\n",
        "    deployment=\"Demo-CORTEC-text-embedding-ada\",\n",
        "    model=\"text-embedding-ada-002\",\n",
        "    openai_api_base=\"https://demo-moh-opeanaij-ape.openai.azure.com/\",\n",
        "    openai_api_type=\"azure\",\n",
        "    chunk_size=16,\n",
        ")"
      ]
    },
    {
      "cell_type": "code",
      "execution_count": 9,
      "metadata": {
        "colab": {
          "base_uri": "https://localhost:8080/"
        },
        "id": "1P2b5B-WA_0-",
        "outputId": "0dc56ed9-4a7d-4123-f197-e31e7b6eb5be"
      },
      "outputs": [
        {
          "name": "stdout",
          "output_type": "stream",
          "text": [
            "/content/cortec\n"
          ]
        }
      ],
      "source": [
        "!pwd"
      ]
    },
    {
      "cell_type": "code",
      "execution_count": 10,
      "metadata": {
        "id": "Lo6wcC7Q_ZPJ"
      },
      "outputs": [],
      "source": [
        "loader = DirectoryLoader('./data/CORTEC_cleaned/', glob=\"./*.pdf\", loader_cls=PyPDFLoader)\n",
        "documents = loader.load()"
      ]
    },
    {
      "cell_type": "code",
      "execution_count": 11,
      "metadata": {
        "id": "6KuFEbgIAi3H"
      },
      "outputs": [],
      "source": [
        "text_splitter = RecursiveCharacterTextSplitter(chunk_size=1000, chunk_overlap=0)\n",
        "texts = text_splitter.split_documents(documents)"
      ]
    },
    {
      "cell_type": "code",
      "execution_count": 12,
      "metadata": {
        "colab": {
          "base_uri": "https://localhost:8080/"
        },
        "id": "qPvcxEefAuC5",
        "outputId": "f81b25ae-9522-4aeb-a121-ecbeab65bf2e"
      },
      "outputs": [
        {
          "data": {
            "text/plain": [
              "1540"
            ]
          },
          "execution_count": 12,
          "metadata": {},
          "output_type": "execute_result"
        }
      ],
      "source": [
        "len(texts)"
      ]
    },
    {
      "cell_type": "code",
      "execution_count": 13,
      "metadata": {
        "id": "pFh17HfuByMZ"
      },
      "outputs": [],
      "source": [
        "persist_directory = 'db'"
      ]
    },
    {
      "cell_type": "code",
      "execution_count": 14,
      "metadata": {
        "id": "JtxgGBzjB2kD"
      },
      "outputs": [],
      "source": [
        "vectordb = Chroma.from_documents(documents=texts,\n",
        "                                 embedding=embeddings,\n",
        "                                 persist_directory=persist_directory)"
      ]
    },
    {
      "cell_type": "code",
      "execution_count": 15,
      "metadata": {
        "id": "wNafedkSCSvJ"
      },
      "outputs": [],
      "source": [
        "#vectordb.persist()\n",
        "#vectordb = None"
      ]
    },
    {
      "cell_type": "code",
      "execution_count": 16,
      "metadata": {
        "id": "3BsGgS9TGWsK"
      },
      "outputs": [],
      "source": [
        "#vectordb = Chroma(persist_directory=persist_directory,\n",
        "#                  embedding_function=embeddings)"
      ]
    },
    {
      "cell_type": "code",
      "execution_count": 17,
      "metadata": {
        "id": "-Uh-PIvAFp-N"
      },
      "outputs": [],
      "source": [
        "retriever = vectordb.as_retriever(search_kwargs={\"k\": 3})"
      ]
    },
    {
      "cell_type": "code",
      "execution_count": 18,
      "metadata": {
        "id": "-Sgja053FlPF"
      },
      "outputs": [],
      "source": [
        "tool = create_retriever_tool(\n",
        "    retriever,\n",
        "    \"search_cortec_documents\",\n",
        "    \"Searches and returns documents regarding the CORTEC.\"\n",
        ")\n",
        "tools = [tool]"
      ]
    },
    {
      "cell_type": "code",
      "execution_count": 19,
      "metadata": {
        "id": "JiC4Q2XYF8Kv"
      },
      "outputs": [],
      "source": [
        "agent_executor = create_conversational_retrieval_agent(model, tools, verbose=True)"
      ]
    },
    {
      "cell_type": "code",
      "execution_count": 20,
      "metadata": {
        "colab": {
          "base_uri": "https://localhost:8080/"
        },
        "id": "0FuLWSOKL6sX",
        "outputId": "ac5239d3-d9c7-4a1c-b54a-3924b8f28ef0"
      },
      "outputs": [
        {
          "data": {
            "text/plain": [
              "[SystemMessage(content='Do your best to answer the questions. Feel free to use any tools available to look up relevant information, only if necessary', additional_kwargs={}),\n",
              " MessagesPlaceholder(variable_name='chat_history'),\n",
              " HumanMessagePromptTemplate(prompt=PromptTemplate(input_variables=['input'], output_parser=None, partial_variables={}, template='{input}', template_format='f-string', validate_template=True), additional_kwargs={}),\n",
              " MessagesPlaceholder(variable_name='agent_scratchpad')]"
            ]
          },
          "execution_count": 20,
          "metadata": {},
          "output_type": "execute_result"
        }
      ],
      "source": [
        "agent_executor.agent.prompt.messages"
      ]
    },
    {
      "cell_type": "code",
      "execution_count": 21,
      "metadata": {
        "id": "xmESzH8zbN0-"
      },
      "outputs": [],
      "source": [
        "template = \"\"\"\n",
        "You are an AI assistant representing the company CORTEC.\n",
        "\n",
        "Do your best to answer the questions. Feel free to use any tools available to look up relevant information, only if necessary\n",
        "\"\"\".strip()\n",
        "\n",
        "agent_executor.agent.prompt.messages[0].content = template"
      ]
    },
    {
      "cell_type": "code",
      "execution_count": 22,
      "metadata": {
        "colab": {
          "base_uri": "https://localhost:8080/"
        },
        "id": "AJaPB-RrGAK_",
        "outputId": "854ba07c-c38b-4fe5-eeef-13cd5921c06f"
      },
      "outputs": [
        {
          "name": "stdout",
          "output_type": "stream",
          "text": [
            "\n",
            "\n",
            "\u001b[1m> Entering new AgentExecutor chain...\u001b[0m\n",
            "\u001b[32;1m\u001b[1;3mHello! How can I assist you today?\u001b[0m\n",
            "\n",
            "\u001b[1m> Finished chain.\u001b[0m\n"
          ]
        }
      ],
      "source": [
        "result = agent_executor({\"input\": \"hello\"})"
      ]
    },
    {
      "cell_type": "code",
      "execution_count": 23,
      "metadata": {
        "colab": {
          "base_uri": "https://localhost:8080/"
        },
        "id": "5Pzfo7t2LlKy",
        "outputId": "d0fed842-6bc9-4a03-99a9-7f720af3efc1"
      },
      "outputs": [
        {
          "name": "stdout",
          "output_type": "stream",
          "text": [
            "\n",
            "\n",
            "\u001b[1m> Entering new AgentExecutor chain...\u001b[0m\n",
            "\u001b[32;1m\u001b[1;3mCathodic protection is a technique used to control the corrosion of a metal surface by making it the cathode of an electrochemical cell. This is achieved by placing in contact with the metal to be protected another more easily corroded metal to act as the anode of the electrochemical cell.\n",
            "\n",
            "Vapor corrosion inhibitors (VCIs) are a type of corrosion inhibitor that are transported in a closed environment to the site of corrosion by volatilization from a source. In vapor phase, VCIs have an attraction to the charged surface of the metal, where they form a thin, monomolecular layer that protects against corrosive elements.\n",
            "\n",
            "The compatibility and interactions between cathodic protection and a vapor (like VCI) can be complex. Both methods aim to prevent corrosion, but they work in different ways and can sometimes interfere with each other. For example, the presence of a VCI might affect the performance of the cathodic protection system. On the other hand, the cathodic protection system might also influence the effectiveness of the VCI.\n",
            "\n",
            "It's important to note that the specifics of these interactions can depend on a variety of factors, including the types of metals involved, the specific VCI used, the environmental conditions, and more. Therefore, it's often necessary to conduct specific tests or consult with a corrosion expert to understand the potential interactions in a given situation.\u001b[0m\n",
            "\n",
            "\u001b[1m> Finished chain.\u001b[0m\n"
          ]
        }
      ],
      "source": [
        "result = agent_executor({\"input\": \"what is Compatibility & Interactions between Cathodic Protection and a Vapor?\"})"
      ]
    },
    {
      "cell_type": "code",
      "execution_count": 24,
      "metadata": {
        "colab": {
          "base_uri": "https://localhost:8080/",
          "height": 784
        },
        "id": "Krcam1BQbts4",
        "outputId": "078cfa36-5ab5-4f05-fbca-f78aa7cf5088"
      },
      "outputs": [
        {
          "name": "stderr",
          "output_type": "stream",
          "text": [
            "<ipython-input-24-a766c35cdf9c>:17: GradioDeprecationWarning: The `style` method is deprecated. Please set these arguments in the constructor instead.\n",
            "  chatbot = gr.Chatbot(show_label=False).style(height=400)\n",
            "<ipython-input-24-a766c35cdf9c>:20: GradioDeprecationWarning: 'scale' value should be an integer. Using 0.9 will cause issues.\n",
            "  with gr.Column(scale=0.90):\n",
            "<ipython-input-24-a766c35cdf9c>:21: GradioDeprecationWarning: The `style` method is deprecated. Please set these arguments in the constructor instead.\n",
            "  msg = gr.Textbox(placeholder=\"Ask a question\", show_label=False).style(container=False)\n",
            "<ipython-input-24-a766c35cdf9c>:22: GradioDeprecationWarning: 'scale' value should be an integer. Using 0.05 will cause issues.\n",
            "  with gr.Column(scale=0.05):\n",
            "<ipython-input-24-a766c35cdf9c>:24: GradioDeprecationWarning: 'scale' value should be an integer. Using 0.05 will cause issues.\n",
            "  with gr.Column(scale=0.05):\n"
          ]
        },
        {
          "name": "stdout",
          "output_type": "stream",
          "text": [
            "Colab notebook detected. To show errors in colab notebook, set debug=True in launch()\n",
            "Running on public URL: https://7f78fcecef0c81e60d.gradio.live\n",
            "\n",
            "This share link expires in 72 hours. For free permanent hosting and GPU upgrades, run `gradio deploy` from Terminal to deploy to Spaces (https://huggingface.co/spaces)\n"
          ]
        },
        {
          "data": {
            "text/html": [
              "<div><iframe src=\"https://7f78fcecef0c81e60d.gradio.live\" width=\"100%\" height=\"500\" allow=\"autoplay; camera; microphone; clipboard-read; clipboard-write;\" frameborder=\"0\" allowfullscreen></iframe></div>"
            ],
            "text/plain": [
              "<IPython.core.display.HTML object>"
            ]
          },
          "metadata": {},
          "output_type": "display_data"
        }
      ],
      "source": [
        "import gradio as gr\n",
        "import time\n",
        "\n",
        "\n",
        "def get_message(userInput: str):\n",
        "    return agent_executor({\"input\":userInput})[\"output\"]\n",
        "\n",
        "\n",
        "with gr.Blocks(css=\"footer {visibility: hidden}\") as app:\n",
        "    app.title = \"Web-UI Demo\"\n",
        "    # gr.Markdown(\"\"\"\n",
        "    # This is a demo of a Smartenop Chatbot. Enter a question and the AI will respond.\n",
        "    # Current model: **MoH Healthbot**\n",
        "    # \"\"\")\n",
        "\n",
        "    # with gr.Tab(\"Healthbot\"):\n",
        "    chatbot = gr.Chatbot(show_label=False).style(height=400)\n",
        "\n",
        "    with gr.Row():\n",
        "        with gr.Column(scale=0.90):\n",
        "            msg = gr.Textbox(placeholder=\"Ask a question\", show_label=False).style(container=False)\n",
        "        with gr.Column(scale=0.05):\n",
        "            submit = gr.Button(\"Send\")\n",
        "        with gr.Column(scale=0.05):\n",
        "            clear = gr.Button(\"🗑️\")\n",
        "\n",
        "    userMessage = \"\"\n",
        "\n",
        "    def user(user_message, history):\n",
        "        global userMessage\n",
        "        userMessage = user_message\n",
        "        return \"\", history + [[user_message, None]]\n",
        "\n",
        "    def bot(history):\n",
        "        bot_message = get_message(userMessage)\n",
        "        history[-1][1] = \"\"\n",
        "        for character in bot_message:\n",
        "            history[-1][1] += character\n",
        "            time.sleep(0.05)\n",
        "            yield history\n",
        "\n",
        "    msg.submit(user, [msg, chatbot], [msg, chatbot], queue=False).then(\n",
        "        bot, chatbot, chatbot\n",
        "    )\n",
        "\n",
        "    submit.click(user, [msg, chatbot], [msg, chatbot], queue=False).then(\n",
        "        bot, chatbot, chatbot\n",
        "    )\n",
        "\n",
        "    clear.click(lambda: None, None, chatbot, queue=False)\n",
        "\n",
        "    # with gr.Tab(\"Settings\"):\n",
        "    #    gr.Label(\"Settings\")\n",
        "\n",
        "\n",
        "if __name__ == \"__main__\":\n",
        "    gr.close_all()\n",
        "    app.queue()\n",
        "    app.launch(server_port=8000, share=True)"
      ]
    },
    {
      "cell_type": "code",
      "execution_count": null,
      "metadata": {
        "colab": {
          "base_uri": "https://localhost:8080/"
        },
        "id": "dED4BdnwfAtT",
        "outputId": "c2df8634-38c6-4fda-f690-3ab760ef3576"
      },
      "outputs": [
        {
          "name": "stdout",
          "output_type": "stream",
          "text": [
            "Still running...\n",
            "Still running...\n",
            "Still running...\n",
            "\n",
            "\n",
            "\u001b[1m> Entering new AgentExecutor chain...\u001b[0m\n",
            "\u001b[32;1m\u001b[1;3mHello! How can I assist you today?\u001b[0m\n",
            "\n",
            "\u001b[1m> Finished chain.\u001b[0m\n",
            "\n",
            "\n",
            "\u001b[1m> Entering new AgentExecutor chain...\u001b[0m\n",
            "\u001b[32;1m\u001b[1;3m\n",
            "Invoking: `search_cortec_documents` with `Out-of-Service and Closure Requirements for Shop Fabricated Storage Tanks`\n",
            "\n",
            "\n",
            "\u001b[0m\u001b[36;1m\u001b[1;3m[Document(page_content='taken out-of-service, it shall be permanently closed. \\n4. A storage tank system where financial responsibility is not maintained and demonstrated, pursuant to Rule 62-762.421, \\nF.A.C., within 90 days of termination of the financial mechanism. \\n(b) Closure of storage tank systems shall be performed by: \\n1. Conducting a Closure Integrity Evaluation for shop fabricated storage tank systems as defined in subsection 62-762.201(8), \\nF.A.C., and completing the Closure Integrity Evaluation Report Form for ASTs 62-762.901(7) (Closure Integrity Report),', metadata={'page': 37, 'source': 'data/CORTEC_cleaned/3.pdf'}), Document(page_content='(e) Storage tank systems with secondary containment shall only be designated as out-of-service for a maximum of 10 \\ncontinuous years. Upon expiration of this time period, the storage tank system must be closed in accordance with paragraph 62-\\n762.802(3)(b), F.A.C. \\n(f) Storage tank systems without secondary containment shall not remain in a continuous out-of-service status for more than five \\nyears. Upon expiration of this time period, the storage tank system must be closed in accordance with paragraph 62-762.802(3)(b), \\nF.A.C. \\n(g) Field erected tanks changing the type of product stored within the tank shall comply with API Std 653, November 2014, \\nincorporated by reference in subsection 62-762.411(3), F.A.C. \\n(3) Closure of storage tank systems.', metadata={'page': 39, 'source': 'data/CORTEC_cleaned/3.pdf'}), Document(page_content='(a) The following storage tank systems must be closed within 90 days in accordance with the provisions of this subsection: \\n1. A storage tank system that is out-of-service, and has not had regulated substances added to or withdrawn from the system for \\nmore than: \\na. Five years after January 11, 2017, for single-walled storage tank systems, or \\nb. 10 years after January 11, 2017,  for storage tank systems with secondary containment. \\n2. Upon discovery, a storage tank system that fails to meet or, if required, is not modified to meet the Storage Tank System \\nrequirements of Rule 62-762.502, F.A.C. \\n3. A storage tank system that requires repair pursuant to Rule 62-762.702, F.A.C., but cannot be repaired to operate in \\naccordance with the requirements of this chapter shall be taken out-of-service. If it cannot be repaired within 365 days after being \\ntaken out-of-service, it shall be permanently closed.', metadata={'page': 40, 'source': 'data/CORTEC_cleaned/3.pdf'})]\u001b[0m\u001b[32;1m\u001b[1;3mOut-of-Service and Closure Requirements for Shop Fabricated Storage Tanks are as follows:\n",
            "\n",
            "1. A storage tank system that is out-of-service, and has not had regulated substances added to or withdrawn from the system for more than:\n",
            "   - Five years after January 11, 2017, for single-walled storage tank systems, or\n",
            "   - 10 years after January 11, 2017, for storage tank systems with secondary containment.\n",
            "\n",
            "2. Upon discovery, a storage tank system that fails to meet or, if required, is not modified to meet the Storage Tank System requirements of Rule 62-762.502, F.A.C.\n",
            "\n",
            "3. A storage tank system that requires repair pursuant to Rule 62-762.702, F.A.C., but cannot be repaired to operate in accordance with the requirements of this chapter shall be taken out-of-service. If it cannot be repaired within 365 days after being taken out-of-service, it shall be permanently closed.\n",
            "\n",
            "4. Storage tank systems with secondary containment shall only be designated as out-of-service for a maximum of 10 continuous years. Upon expiration of this time period, the storage tank system must be closed.\n",
            "\n",
            "5. Storage tank systems without secondary containment shall not remain in a continuous out-of-service status for more than five years. Upon expiration of this time period, the storage tank system must be closed.\n",
            "\n",
            "6. Field erected tanks changing the type of product stored within the tank shall comply with API Std 653, November 2014.\n",
            "\n",
            "Please note that these are general guidelines and specific requirements may vary depending on local regulations and the specific circumstances of the storage tank system. Always consult with a professional or regulatory authority to ensure compliance.\u001b[0m\n",
            "\n",
            "\u001b[1m> Finished chain.\u001b[0m\n",
            "\n",
            "\n",
            "\u001b[1m> Entering new AgentExecutor chain...\u001b[0m\n",
            "\u001b[32;1m\u001b[1;3m\n",
            "Invoking: `search_cortec_documents` with `Literature Review and Evaluation of Efficacy of Volatile Corrosion Inhibitors (VCI) for Mitigating Soil-Side Corrosion on Aboveground Storage Tanks`\n",
            "\n",
            "\n",
            "\u001b[0m\u001b[36;1m\u001b[1;3m[Document(page_content='Subject:  Literature Review and Evaluation of Efficacy of Volatile \\nCorrosion  Inhibitors (VCI) for Mitigating  Soil-Side Corrosion  on \\nAboveground Storage Tanks  \\n \\nAvailable literature and references indicate that Volatile Corrosion Inhibitor  (VCI)   \\ntechnology  has been tested  for i ts efficacy in  mitigatin g soil -side corrosion on \\nstorage tank bottoms first time by Conoco Philips in 1993. The tests  showed  \\npromising results as  described in their published paper entitled  \"Evaluation of \\nCorrosion Prevention  Methods  for Aboveground Storage Tank Bottom \", attached \\nis a copy of the technical paper for review 1. This technology was first approved by \\nthe Florida Department of Environmental Protection in  2002 for use in  the \\nprotectio n of tank floors  in the event o f a failure to repair or modify  the existing \\ncathod ic protection system , attached a copy of the facsimile for review2. The', metadata={'page': 0, 'source': 'data/CORTEC_cleaned/Lieterature Review of VCI Technology for Mitigating Soil Side Corrosion (ENG).pdf'}), Document(page_content='Key words: volatile corrosion inhibitors, VCI, oily sand, aboveground storage tank, AST, electrical \\nresistance (ER) probes, tank floor corrosion  \\n©2013 by NACE International.\\nRequests for permission to publish this manuscript in any form, in part or in whole, must be in writing to\\nNACE International, Publications Division, 1440 South Creek Drive, Houston, Texas 77084.\\nThe material presented and the views expressed in this paper are solely those of the author(s) and are not necessarily endorsed by the Association.\\n1\\nPaper No.\\n2242', metadata={'page': 0, 'source': 'data/CORTEC_cleaned/NACE Paper 2013.pdf'}), Document(page_content='Key words: volatile corrosion inhibitors, VCI, oily sand, aboveground storage tank, AST, electrical \\nresistance (ER) probes, tank floor corrosion  \\n©2013 by NACE International.\\nRequests for permission to publish this manuscript in any form, in part or in whole, must be in writing to\\nNACE International, Publications Division, 1440 South Creek Drive, Houston, Texas 77084.\\nThe material presented and the views expressed in this paper are solely those of the author(s) and are not necessarily endorsed by the Association.\\n1\\nPaper No.\\n2242', metadata={'page': 0, 'source': 'data/CORTEC_cleaned/2242  Mitigating Soil-Side Corrosion on Crude Oil Tank Bottoms Using Vol....pdf'})]\u001b[0m\u001b[32;1m\u001b[1;3mThe literature review and evaluation of the efficacy of Volatile Corrosion Inhibitors (VCI) for mitigating soil-side corrosion on Aboveground Storage Tanks indicate that VCI technology has been tested for its efficacy in mitigating soil-side corrosion on storage tank bottoms. The first test was conducted by Conoco Philips in 1993, and the results were promising as described in their published paper entitled \"Evaluation of Corrosion Prevention Methods for Aboveground Storage Tank Bottom\".\n",
            "\n",
            "This technology was first approved by the Florida Department of Environmental Protection in 2002 for use in the protection of tank floors in the event of a failure to repair or modify the existing cathodic protection system.\n",
            "\n",
            "Volatile Corrosion Inhibitors (VCIs) are substances that release compounds into the air. These compounds settle on metal surfaces and form a protective layer that prevents corrosion. They are particularly useful for protecting metal parts or surfaces that are difficult to reach or for providing temporary protection during storage or transport.\n",
            "\n",
            "In the context of aboveground storage tanks, VCIs can be used to mitigate soil-side corrosion, which refers to corrosion that occurs on the side of the tank that is in contact with the soil. This type of corrosion can be a significant problem for storage tanks, as it can lead to leaks or even tank failure if not properly managed.\n",
            "\n",
            "Please note that while the literature indicates that VCIs can be effective in mitigating soil-side corrosion, their effectiveness can depend on a variety of factors, including the specific VCI used, the type of metal, the environmental conditions, and more. Therefore, it's often necessary to conduct specific tests or consult with a corrosion expert to determine the most effective corrosion prevention strategy for a given situation.\u001b[0m\n",
            "\n",
            "\u001b[1m> Finished chain.\u001b[0m\n",
            "Still running...\n",
            "Still running...\n",
            "Still running...\n",
            "Still running...\n",
            "Still running...\n",
            "Still running...\n",
            "Still running...\n"
          ]
        }
      ],
      "source": [
        "import time\n",
        "\n",
        "while True:\n",
        "    print(\"Still running...\")\n",
        "    time.sleep(600)"
      ]
    }
  ],
  "metadata": {
    "colab": {
      "provenance": []
    },
    "kernelspec": {
      "display_name": "Python 3",
      "name": "python3"
    },
    "language_info": {
      "name": "python"
    }
  },
  "nbformat": 4,
  "nbformat_minor": 0
}
